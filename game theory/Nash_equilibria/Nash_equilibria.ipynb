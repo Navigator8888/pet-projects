{
 "cells": [
  {
   "cell_type": "code",
   "execution_count": 8,
   "id": "9133c02d",
   "metadata": {},
   "outputs": [
    {
     "name": "stdout",
     "output_type": "stream",
     "text": [
      "Равновесие Нэша: (array([1., 0.]), array([1., 0.]))\n",
      "Равновесие Нэша: (array([0., 1.]), array([0., 1.]))\n",
      "Равновесие Нэша: (array([0.25, 0.75]), array([0.25, 0.75]))\n"
     ]
    }
   ],
   "source": [
    "import nashpy as nash\n",
    "import numpy as np\n",
    "\n",
    "# Матрицы выплат\n",
    "A = np.array([[3, 1], [0, 2]])  # Выплаты для первого игрока\n",
    "B = np.array([[3, 0], [1, 2]])  # Выплаты для второго игрока\n",
    "\n",
    "# Создание игры\n",
    "game = nash.Game(A, B)\n",
    "\n",
    "# Нахождение всех равновесий Нэша\n",
    "equilibria = game.support_enumeration()\n",
    "\n",
    "# Печать равновесий Нэша\n",
    "for eq in equilibria:\n",
    "    print(\"Равновесие Нэша:\", eq)\n"
   ]
  },
  {
   "cell_type": "code",
   "execution_count": null,
   "id": "97fec6a9",
   "metadata": {},
   "outputs": [],
   "source": []
  }
 ],
 "metadata": {
  "kernelspec": {
   "display_name": "Python 3 (ipykernel)",
   "language": "python",
   "name": "python3"
  },
  "language_info": {
   "codemirror_mode": {
    "name": "ipython",
    "version": 3
   },
   "file_extension": ".py",
   "mimetype": "text/x-python",
   "name": "python",
   "nbconvert_exporter": "python",
   "pygments_lexer": "ipython3",
   "version": "3.9.12"
  }
 },
 "nbformat": 4,
 "nbformat_minor": 5
}
