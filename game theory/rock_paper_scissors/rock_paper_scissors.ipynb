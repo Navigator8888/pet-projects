{
 "cells": [
  {
   "cell_type": "code",
   "execution_count": null,
   "id": "862a59ef",
   "metadata": {},
   "outputs": [
    {
     "name": "stdout",
     "output_type": "stream",
     "text": [
      "Добро пожаловать в игру 'Камень, ножницы, бумага'!\n"
     ]
    }
   ],
   "source": [
    "import random\n",
    "\n",
    "# Определяем возможные варианты\n",
    "choices = [\"камень\", \"ножницы\", \"бумага\"]\n",
    "\n",
    "def determine_winner(player_choice, computer_choice):\n",
    "    if player_choice == computer_choice:\n",
    "        return \"Ничья!\"\n",
    "    elif (player_choice == \"камень\" and computer_choice == \"ножницы\") or \\\n",
    "         (player_choice == \"ножницы\" and computer_choice == \"бумага\") or \\\n",
    "         (player_choice == \"бумага\" and computer_choice == \"камень\"):\n",
    "        return \"Вы победили!\"\n",
    "    else:\n",
    "        return \"Компьютер победил!\"\n",
    "\n",
    "def play_game():\n",
    "    print(\"Добро пожаловать в игру 'Камень, ножницы, бумага'!\")\n",
    "    \n",
    "    player_choice = input(\"Выберите камень, ножницы или бумага: \").lower()\n",
    "    \n",
    "    if player_choice not in choices:\n",
    "        print(\"Неверный выбор! Попробуйте снова.\")\n",
    "        return\n",
    "    \n",
    "    computer_choice = random.choice(choices)\n",
    "    print(f\"Компьютер выбрал: {computer_choice}\")\n",
    "    \n",
    "    result = determine_winner(player_choice, computer_choice)\n",
    "    print(result)\n",
    "\n",
    "# Запуск игры\n",
    "play_game()\n"
   ]
  },
  {
   "cell_type": "code",
   "execution_count": null,
   "id": "c0040417",
   "metadata": {},
   "outputs": [],
   "source": []
  }
 ],
 "metadata": {
  "kernelspec": {
   "display_name": "Python 3 (ipykernel)",
   "language": "python",
   "name": "python3"
  },
  "language_info": {
   "codemirror_mode": {
    "name": "ipython",
    "version": 3
   },
   "file_extension": ".py",
   "mimetype": "text/x-python",
   "name": "python",
   "nbconvert_exporter": "python",
   "pygments_lexer": "ipython3",
   "version": "3.9.12"
  }
 },
 "nbformat": 4,
 "nbformat_minor": 5
}
