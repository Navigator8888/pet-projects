{
 "cells": [
  {
   "cell_type": "code",
   "execution_count": 9,
   "id": "9133c02d",
   "metadata": {},
   "outputs": [
    {
     "name": "stdout",
     "output_type": "stream",
     "text": [
      "Ставки участников:\n",
      "Участник 1: 8 единиц\n",
      "Участник 2: 11 единиц\n",
      "Участник 3: 64 единиц\n",
      "Участник 4: 7 единиц\n",
      "Участник 5: 35 единиц\n",
      "\n",
      "Результаты аукциона:\n",
      "Победитель: Участник 3 со ставкой 64 единиц\n",
      "Вероятность выигрыша для Участник 1: 0.06\n",
      "Вероятность выигрыша для Участник 2: 0.09\n",
      "Вероятность выигрыша для Участник 3: 0.51\n",
      "Вероятность выигрыша для Участник 4: 0.06\n",
      "Вероятность выигрыша для Участник 5: 0.28\n"
     ]
    }
   ],
   "source": [
    "import random\n",
    "\n",
    "# Параметры аукциона\n",
    "num_players = 5  # Количество участников\n",
    "max_bid = 100    # Максимальная возможная ставка\n",
    "\n",
    "# Моделирование участников и их ставок\n",
    "players = {}\n",
    "for i in range(1, num_players + 1):\n",
    "    bid = random.randint(1, max_bid)  # Каждый участник делает случайную ставку\n",
    "    players[f\"Участник {i}\"] = bid\n",
    "\n",
    "# Печать всех ставок участников\n",
    "print(\"Ставки участников:\")\n",
    "for player, bid in players.items():\n",
    "    print(f\"{player}: {bid} единиц\")\n",
    "\n",
    "# Определение победителя\n",
    "winner = max(players, key=players.get)\n",
    "winning_bid = players[winner]\n",
    "\n",
    "# Печать результатов\n",
    "print(\"\\nРезультаты аукциона:\")\n",
    "print(f\"Победитель: {winner} со ставкой {winning_bid} единиц\")\n",
    "\n",
    "# Анализ стратегии\n",
    "# Подсчёт вероятности выигрыша для каждого участника, если все ставки случайны\n",
    "total_bids = sum(players.values())\n",
    "for player, bid in players.items():\n",
    "    win_probability = bid / total_bids\n",
    "    print(f\"Вероятность выигрыша для {player}: {win_probability:.2f}\")\n",
    "\n"
   ]
  },
  {
   "cell_type": "code",
   "execution_count": null,
   "id": "8d77b223",
   "metadata": {},
   "outputs": [],
   "source": []
  }
 ],
 "metadata": {
  "kernelspec": {
   "display_name": "Python 3 (ipykernel)",
   "language": "python",
   "name": "python3"
  },
  "language_info": {
   "codemirror_mode": {
    "name": "ipython",
    "version": 3
   },
   "file_extension": ".py",
   "mimetype": "text/x-python",
   "name": "python",
   "nbconvert_exporter": "python",
   "pygments_lexer": "ipython3",
   "version": "3.9.12"
  }
 },
 "nbformat": 4,
 "nbformat_minor": 5
}
