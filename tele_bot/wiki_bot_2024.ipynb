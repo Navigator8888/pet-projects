{
 "cells": [
  {
   "cell_type": "code",
   "execution_count": 1,
   "id": "9f06e994",
   "metadata": {},
   "outputs": [
    {
     "name": "stdout",
     "output_type": "stream",
     "text": [
      "Requirement already satisfied: pytelegrambotapi in c:\\users\\gr\\anaconda3\\lib\\site-packages (4.13.0)\n",
      "Requirement already satisfied: requests in c:\\users\\gr\\anaconda3\\lib\\site-packages (from pytelegrambotapi) (2.27.1)\n",
      "Requirement already satisfied: certifi>=2017.4.17 in c:\\users\\gr\\anaconda3\\lib\\site-packages (from requests->pytelegrambotapi) (2021.10.8)\n",
      "Requirement already satisfied: urllib3<1.27,>=1.21.1 in c:\\users\\gr\\anaconda3\\lib\\site-packages (from requests->pytelegrambotapi) (1.26.9)\n",
      "Requirement already satisfied: charset-normalizer~=2.0.0 in c:\\users\\gr\\anaconda3\\lib\\site-packages (from requests->pytelegrambotapi) (2.0.4)\n",
      "Requirement already satisfied: idna<4,>=2.5 in c:\\users\\gr\\anaconda3\\lib\\site-packages (from requests->pytelegrambotapi) (3.3)\n",
      "Note: you may need to restart the kernel to use updated packages.\n"
     ]
    }
   ],
   "source": [
    "pip install pytelegrambotapi"
   ]
  },
  {
   "cell_type": "code",
   "execution_count": 2,
   "id": "5dd25d86",
   "metadata": {},
   "outputs": [
    {
     "name": "stdout",
     "output_type": "stream",
     "text": [
      "Requirement already satisfied: wikipedia in c:\\users\\gr\\anaconda3\\lib\\site-packages (1.4.0)\n",
      "Requirement already satisfied: beautifulsoup4 in c:\\users\\gr\\anaconda3\\lib\\site-packages (from wikipedia) (4.11.1)\n",
      "Requirement already satisfied: requests<3.0.0,>=2.0.0 in c:\\users\\gr\\anaconda3\\lib\\site-packages (from wikipedia) (2.27.1)\n",
      "Requirement already satisfied: idna<4,>=2.5 in c:\\users\\gr\\anaconda3\\lib\\site-packages (from requests<3.0.0,>=2.0.0->wikipedia) (3.3)\n",
      "Requirement already satisfied: certifi>=2017.4.17 in c:\\users\\gr\\anaconda3\\lib\\site-packages (from requests<3.0.0,>=2.0.0->wikipedia) (2021.10.8)\n",
      "Requirement already satisfied: charset-normalizer~=2.0.0 in c:\\users\\gr\\anaconda3\\lib\\site-packages (from requests<3.0.0,>=2.0.0->wikipedia) (2.0.4)\n",
      "Requirement already satisfied: urllib3<1.27,>=1.21.1 in c:\\users\\gr\\anaconda3\\lib\\site-packages (from requests<3.0.0,>=2.0.0->wikipedia) (1.26.9)\n",
      "Requirement already satisfied: soupsieve>1.2 in c:\\users\\gr\\anaconda3\\lib\\site-packages (from beautifulsoup4->wikipedia) (2.3.1)\n",
      "Note: you may need to restart the kernel to use updated packages.\n"
     ]
    }
   ],
   "source": [
    "pip install wikipedia"
   ]
  },
  {
   "cell_type": "code",
   "execution_count": null,
   "id": "ca120443",
   "metadata": {},
   "outputs": [],
   "source": [
    "import telebot, wikipedia, re\n",
    "# Создаем экземпляр бота\n",
    "bot = telebot.TeleBot('')\n",
    "# Устанавливаем русский язык в Wikipedia\n",
    "wikipedia.set_lang(\"ru\")\n",
    "# Чистим текст статьи в Wikipedia и ограничиваем его тысячей символов\n",
    "def getwiki(s):\n",
    "    try:\n",
    "        ny = wikipedia.page(s)\n",
    "        # Получаем первую тысячу символов\n",
    "        wikitext=ny.content[:1000]\n",
    "        # Разделяем по точкам\n",
    "        wikimas=wikitext.split('.')\n",
    "        # Отбрасываем всЕ после последней точки\n",
    "        wikimas = wikimas[:-1]\n",
    "        # Создаем пустую переменную для текста\n",
    "        wikitext2 = ''\n",
    "        # Проходимся по строкам, где нет знаков «равно» (то есть все, кроме заголовков)\n",
    "        for x in wikimas:\n",
    "            if not('==' in x):\n",
    "                    # Если в строке осталось больше трех символов, добавляем ее к нашей переменной и возвращаем утерянные при разделении строк точки на место\n",
    "                if(len((x.strip()))>3):\n",
    "                   wikitext2=wikitext2+x+'.'\n",
    "            else:\n",
    "                break\n",
    "        # Теперь при помощи регулярных выражений убираем разметку\n",
    "        wikitext2=re.sub('\\([^()]*\\)', '', wikitext2)\n",
    "        wikitext2=re.sub('\\([^()]*\\)', '', wikitext2)\n",
    "        wikitext2=re.sub('\\{[^\\{\\}]*\\}', '', wikitext2)\n",
    "        # Возвращаем текстовую строку\n",
    "        return wikitext2\n",
    "    # Обрабатываем исключение, которое мог вернуть модуль wikipedia при запросе\n",
    "    except Exception as e:\n",
    "        return 'В энциклопедии нет информации об этом'\n",
    "# Функция, обрабатывающая команду /start\n",
    "@bot.message_handler(commands=[\"start\"])\n",
    "def start(m, res=False):\n",
    "    bot.send_message(m.chat.id, 'Отправьте мне любое слово, и я найду его значение на Wikipedia')\n",
    "# Получение сообщений от юзера\n",
    "@bot.message_handler(content_types=[\"text\"])\n",
    "def handle_text(message):\n",
    "    bot.send_message(message.chat.id, getwiki(message.text))\n",
    "# Запускаем бота\n",
    "bot.polling(none_stop=True, interval=0)"
   ]
  }
 ],
 "metadata": {
  "kernelspec": {
   "display_name": "Python 3 (ipykernel)",
   "language": "python",
   "name": "python3"
  },
  "language_info": {
   "codemirror_mode": {
    "name": "ipython",
    "version": 3
   },
   "file_extension": ".py",
   "mimetype": "text/x-python",
   "name": "python",
   "nbconvert_exporter": "python",
   "pygments_lexer": "ipython3",
   "version": "3.9.12"
  }
 },
 "nbformat": 4,
 "nbformat_minor": 5
}
